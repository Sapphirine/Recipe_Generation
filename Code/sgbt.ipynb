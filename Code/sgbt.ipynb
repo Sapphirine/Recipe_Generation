{
 "cells": [
  {
   "cell_type": "code",
   "execution_count": 1,
   "metadata": {
    "collapsed": true
   },
   "outputs": [],
   "source": [
    "# $example on$\n",
    "from pyspark.ml import Pipeline\n",
    "from pyspark.ml.classification import GBTClassifier\n",
    "from pyspark.ml.feature import StringIndexer, VectorIndexer\n",
    "from pyspark.ml.evaluation import MulticlassClassificationEvaluator\n",
    "# $example off$\n",
    "from pyspark.sql import SparkSession\n",
    "\n",
    "\n",
    "from pyspark import SparkContext\n",
    "from pyspark.sql import SQLContext\n",
    "import pandas as pd\n",
    "from pyspark.ml import Pipeline\n",
    "\n",
    "from pyspark.ml.feature import VectorAssembler\n",
    "\n",
    "from pyspark.mllib.tree import GradientBoostedTrees, GradientBoostedTreesModel\n",
    "\n",
    "import csv\n",
    "from pyspark.mllib.regression import LabeledPoint"
   ]
  },
  {
   "cell_type": "code",
   "execution_count": 2,
   "metadata": {
    "collapsed": true
   },
   "outputs": [],
   "source": [
    "rdd = sc.textFile(\"processed2.csv\")"
   ]
  },
  {
   "cell_type": "code",
   "execution_count": 3,
   "metadata": {
    "collapsed": true
   },
   "outputs": [],
   "source": [
    "temp1 = rdd.map(lambda row: row.split(','))\n",
    "temp2 = temp1.map(lambda seq: LabeledPoint(seq[0],seq[1:])) "
   ]
  },
  {
   "cell_type": "code",
   "execution_count": 4,
   "metadata": {
    "collapsed": true
   },
   "outputs": [],
   "source": [
    "(trainingData, testData) = temp2.randomSplit([0.7, 0.3])"
   ]
  },
  {
   "cell_type": "code",
   "execution_count": 14,
   "metadata": {
    "collapsed": false
   },
   "outputs": [],
   "source": [
    "model = GradientBoostedTrees.trainRegressor(trainingData,categoricalFeaturesInfo={}, numIterations=1)"
   ]
  },
  {
   "cell_type": "code",
   "execution_count": 15,
   "metadata": {
    "collapsed": false
   },
   "outputs": [
    {
     "name": "stdout",
     "output_type": "stream",
     "text": [
      "Test Mean Squared Error = 0.165014030596\n",
      "Learned regression GBT model:\n",
      "TreeEnsembleModel regressor with 1 trees\n",
      "\n",
      "  Tree 0:\n",
      "    If (feature 45 <= -0.0017897811)\n",
      "     If (feature 16 <= 5.743573E-4)\n",
      "      If (feature 70 <= 0.0034970013)\n",
      "       Predict: 4.383977770714252\n",
      "      Else (feature 70 > 0.0034970013)\n",
      "       Predict: 4.5163728666330005\n",
      "     Else (feature 16 > 5.743573E-4)\n",
      "      If (feature 270 <= -0.0013743711)\n",
      "       Predict: 4.179680040251923\n",
      "      Else (feature 270 > -0.0013743711)\n",
      "       Predict: 4.390508968642237\n",
      "    Else (feature 45 > -0.0017897811)\n",
      "     If (feature 235 <= 3.214122E-4)\n",
      "      If (feature 263 <= 0.0036243114)\n",
      "       Predict: 4.345561778919556\n",
      "      Else (feature 263 > 0.0036243114)\n",
      "       Predict: 4.477342771633922\n",
      "     Else (feature 235 > 3.214122E-4)\n",
      "      If (feature 251 <= -0.0011957733)\n",
      "       Predict: 4.342845047197716\n",
      "      Else (feature 251 > -0.0011957733)\n",
      "       Predict: 4.2880171426959475\n",
      "\n"
     ]
    }
   ],
   "source": [
    "predictions = model.predict(testData.map(lambda x: x.features))\n",
    "labelsAndPredictions = testData.map(lambda lp: lp.label).zip(predictions)\n",
    "testMSE = labelsAndPredictions.map(lambda (v, p): (v - p) * (v - p)).sum() / float(testData.count())\n",
    "print('Test Mean Squared Error = ' + str(testMSE))\n",
    "print('Learned regression GBT model:')\n",
    "print(model.toDebugString())"
   ]
  },
  {
   "cell_type": "code",
   "execution_count": 9,
   "metadata": {
    "collapsed": true
   },
   "outputs": [],
   "source": [
    "model.save(sc, \"SGBT_1\")\n",
    "#sameModel = GradientBoostedTreesModel.load(sc, \"SGBT_1\")\n",
    "   "
   ]
  },
  {
   "cell_type": "code",
   "execution_count": null,
   "metadata": {
    "collapsed": true
   },
   "outputs": [],
   "source": []
  }
 ],
 "metadata": {
  "kernelspec": {
   "display_name": "Python [Root]",
   "language": "python",
   "name": "Python [Root]"
  },
  "language_info": {
   "codemirror_mode": {
    "name": "ipython",
    "version": 2
   },
   "file_extension": ".py",
   "mimetype": "text/x-python",
   "name": "python",
   "nbconvert_exporter": "python",
   "pygments_lexer": "ipython2",
   "version": "2.7.12"
  }
 },
 "nbformat": 4,
 "nbformat_minor": 0
}
